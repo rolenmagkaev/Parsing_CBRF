{
 "cells": [
  {
   "cell_type": "code",
   "execution_count": 13,
   "metadata": {},
   "outputs": [],
   "source": [
    "import requests\n",
    "from bs4 import BeautifulSoup\n",
    "import json\n",
    "from datetime import datetime"
   ]
  },
  {
   "cell_type": "code",
   "execution_count": 14,
   "metadata": {},
   "outputs": [
    {
     "name": "stdout",
     "output_type": "stream",
     "text": [
      "Data written to data_1.json file.\n"
     ]
    }
   ],
   "source": [
    "class ParserCBRF:\n",
    "    \n",
    "    def __init__(self, url):\n",
    "        self.url = url\n",
    "\n",
    "    def start(self):\n",
    "        response = requests.get(self.url)\n",
    "        soup = BeautifulSoup(response.content, 'html.parser')\n",
    "        table = soup.find('table', {'class': 'data'})\n",
    "        rows = table.find_all('tr')[1:]\n",
    "        \n",
    "        data = {}\n",
    "        for row in rows:\n",
    "            cols = row.find_all('td')\n",
    "            cols = [col.text.strip() for col in cols]\n",
    "            iso_date = datetime.strptime(cols[0], '%d.%m.%Y').date().isoformat()\n",
    "            cols[0] = iso_date\n",
    "            data[iso_date] = cols[1]\n",
    "\n",
    "        with open('data_1.json', 'w', encoding='utf-8') as outfile:\n",
    "            json.dump(data, outfile, indent=2, ensure_ascii=False)\n",
    "\n",
    "        print(\"Data written to data_1.json file.\")\n",
    "\n",
    "parser = ParserCBRF(\"http://cbr.ru/hd_base/mb_nd/mb_nd_weekly/\")\n",
    "parser.start()\n"
   ]
  },
  {
   "cell_type": "code",
   "execution_count": 15,
   "metadata": {},
   "outputs": [],
   "source": [
    "class MonetaryData:\n",
    "\n",
    "    def __init__(self, filename):\n",
    "        self.filename = filename\n",
    "        with open(filename, 'r', encoding='utf-8') as infile:\n",
    "            self.data = json.load(infile)\n",
    "\n",
    "    def monetary_base_by_date(self, date):\n",
    "        return self.data.get(date, \"Data not found for selected date\")\n",
    "    \n",
    "    def monetary_base_last(self):\n",
    "        last_date = max(self.data.keys())\n",
    "        return self.data[last_date]\n",
    "    \n",
    "    def range_dates(self, from_date, to_date):\n",
    "        filtered_data = {}\n",
    "        for key, value in self.data.items():\n",
    "            date_obj = datetime.strptime(key, '%Y-%m-%d').date()\n",
    "            if from_date <= date_obj <= to_date:\n",
    "                filtered_data[key] = value\n",
    "        sorted_data = sorted(filtered_data.items())\n",
    "        return sorted_data"
   ]
  },
  {
   "cell_type": "code",
   "execution_count": 16,
   "metadata": {},
   "outputs": [
    {
     "name": "stdout",
     "output_type": "stream",
     "text": [
      "Данные за определенную дату: 14 479,0\n",
      "Данные за последнюю доступную дату: 17 593,6\n",
      "Данные за определенный период:\n",
      "('2022-08-05', '14 335,0')\n",
      "('2022-08-12', '14 431,4')\n",
      "('2022-08-19', '14 479,0')\n",
      "('2022-08-26', '14 383,5')\n",
      "('2022-09-02', '14 420,5')\n",
      "('2022-09-09', '14 558,6')\n",
      "('2022-09-16', '14 664,3')\n",
      "('2022-09-23', '14 899,3')\n",
      "('2022-09-30', '15 265,4')\n",
      "('2022-10-07', '15 446,0')\n",
      "('2022-10-14', '15 619,6')\n",
      "('2022-10-21', '15 670,0')\n",
      "('2022-10-28', '15 614,5')\n",
      "('2022-11-03', '15 714,8')\n",
      "('2022-11-11', '15 789,7')\n",
      "('2022-11-18', '15 826,9')\n",
      "('2022-11-25', '15 725,4')\n",
      "('2022-12-02', '15 722,7')\n",
      "('2022-12-09', '15 869,3')\n",
      "('2022-12-16', '16 030,9')\n",
      "('2022-12-23', '16 189,1')\n",
      "('2022-12-30', '16 454,7')\n",
      "('2023-01-13', '16 393,0')\n",
      "('2023-01-20', '16 397,6')\n",
      "('2023-01-27', '16 304,5')\n",
      "('2023-02-03', '16 348,6')\n",
      "('2023-02-10', '16 437,2')\n",
      "('2023-02-17', '16 596,2')\n",
      "('2023-02-22', '16 696,2')\n",
      "('2023-03-03', '16 721,0')\n",
      "('2023-03-10', '16 833,7')\n",
      "('2023-03-17', '16 938,2')\n"
     ]
    }
   ],
   "source": [
    "monetary_data = MonetaryData('data_1.json')\n",
    "print(\"Данные за определенную дату: \" + monetary_data.monetary_base_by_date('2022-08-19')) # введите дату для проверки\n",
    "\n",
    "\n",
    "monetary_data = MonetaryData('data_1.json')\n",
    "print(\"Данные за последнюю доступную дату: \" + monetary_data.monetary_base_last())\n",
    "\n",
    "\n",
    "monetary_data = MonetaryData('data_1.json') \n",
    "range_data = monetary_data.range_dates(datetime(2022, 8, 5).date(), datetime(2023, 3, 22).date()) #выберите диапазон дат\n",
    "print(\"Данные за определенный период:\") \n",
    "for data in range_data: \n",
    "    print(data)"
   ]
  }
 ],
 "metadata": {
  "kernelspec": {
   "display_name": "env",
   "language": "python",
   "name": "python3"
  },
  "language_info": {
   "codemirror_mode": {
    "name": "ipython",
    "version": 3
   },
   "file_extension": ".py",
   "mimetype": "text/x-python",
   "name": "python",
   "nbconvert_exporter": "python",
   "pygments_lexer": "ipython3",
   "version": "3.10.11"
  },
  "orig_nbformat": 4
 },
 "nbformat": 4,
 "nbformat_minor": 2
}
