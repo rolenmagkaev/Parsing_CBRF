{
 "cells": [
  {
   "cell_type": "code",
   "execution_count": null,
   "metadata": {},
   "outputs": [],
   "source": [
    "import requests\n",
    "from bs4 import BeautifulSoup\n",
    "import json\n",
    "from datetime import datetime"
   ]
  },
  {
   "cell_type": "code",
   "execution_count": null,
   "metadata": {},
   "outputs": [],
   "source": [
    "class ParserCBRF:\n",
    "    \n",
    "    def __init__(self, url):\n",
    "        self.url = url\n",
    "\n",
    "    def start(self):\n",
    "        response = requests.get(self.url)\n",
    "        soup = BeautifulSoup(response.content, 'html.parser')\n",
    "        table = soup.find('table', {'class': 'data'})\n",
    "        rows = table.find_all('tr')[1:]\n",
    "        \n",
    "        data = {}\n",
    "        for row in rows:\n",
    "            cols = row.find_all('td')\n",
    "            cols = [col.text.strip() for col in cols]\n",
    "            iso_date = datetime.strptime(cols[0], '%d.%m.%Y').date().isoformat()\n",
    "            cols[0] = iso_date\n",
    "            data[iso_date] = cols[1]\n",
    "\n",
    "        with open('data_1.json', 'w', encoding='utf-8') as outfile:\n",
    "            json.dump(data, outfile, indent=2, ensure_ascii=False)\n",
    "\n",
    "        print(\"Data written to data_1.json file.\")\n",
    "\n",
    "parser = ParserCBRF(\"http://cbr.ru/hd_base/mb_nd/mb_nd_weekly/\")\n",
    "parser.start()\n"
   ]
  },
  {
   "cell_type": "code",
   "execution_count": null,
   "metadata": {},
   "outputs": [],
   "source": [
    "class MonetaryData:\n",
    "\n",
    "    def __init__(self, filename):\n",
    "        self.filename = filename\n",
    "        with open(filename, 'r', encoding='utf-8') as infile:\n",
    "            self.data = json.load(infile)\n",
    "\n",
    "    def monetary_base_by_date(self, date):\n",
    "        return self.data.get(date, \"Data not found for selected date\")\n",
    "    \n",
    "    def monetary_base_last(self):\n",
    "        last_date = max(self.data.keys())\n",
    "        return self.data[last_date]\n",
    "    \n",
    "    def range_dates(self, from_date, to_date):\n",
    "        filtered_data = {}\n",
    "        for key, value in self.data.items():\n",
    "            date_obj = datetime.strptime(key, '%Y-%m-%d').date()\n",
    "            if from_date <= date_obj <= to_date:\n",
    "                filtered_data[key] = value\n",
    "        sorted_data = sorted(filtered_data.items())\n",
    "        return sorted_data"
   ]
  },
  {
   "cell_type": "code",
   "execution_count": null,
   "metadata": {},
   "outputs": [],
   "source": [
    "monetary_data = MonetaryData('data_1.json')\n",
    "print(\"Данные за определенную дату: \" + monetary_data.monetary_base_by_date('2022-08-19')) # введите дату для проверки\n",
    "\n",
    "\n",
    "monetary_data = MonetaryData('data_1.json')\n",
    "print(\"Данные за последнюю доступную дату: \" + monetary_data.monetary_base_last())\n",
    "\n",
    "\n",
    "monetary_data = MonetaryData('data_1.json') \n",
    "range_data = monetary_data.range_dates(datetime(2022, 8, 5).date(), datetime(2023, 3, 22).date()) #выберите диапазон дат\n",
    "print(\"Данные за определенный период:\") \n",
    "for data in range_data: \n",
    "    print(data)"
   ]
  }
 ],
 "metadata": {
  "kernelspec": {
   "display_name": "env",
   "language": "python",
   "name": "python3"
  },
  "language_info": {
   "codemirror_mode": {
    "name": "ipython",
    "version": 3
   },
   "file_extension": ".py",
   "mimetype": "text/x-python",
   "name": "python",
   "nbconvert_exporter": "python",
   "pygments_lexer": "ipython3",
   "version": "3.10.11"
  },
  "orig_nbformat": 4
 },
 "nbformat": 4,
 "nbformat_minor": 2
}
